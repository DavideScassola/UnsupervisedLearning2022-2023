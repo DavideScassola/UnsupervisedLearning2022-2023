{
 "cells": [
  {
   "cell_type": "code",
   "execution_count": 51,
   "metadata": {},
   "outputs": [
    {
     "ename": "ArgumentError",
     "evalue": "ArgumentError: Package Plots not found in current path.\n- Run `import Pkg; Pkg.add(\"Plots\")` to install the Plots package.",
     "output_type": "error",
     "traceback": [
      "ArgumentError: Package Plots not found in current path.\n",
      "- Run `import Pkg; Pkg.add(\"Plots\")` to install the Plots package.\n",
      "\n",
      "Stacktrace:\n",
      "  [1] macro expansion\n",
      "    @ ./loading.jl:1163 [inlined]\n",
      "  [2] macro expansion\n",
      "    @ ./lock.jl:223 [inlined]\n",
      "  [3] require(into::Module, mod::Symbol)\n",
      "    @ Base ./loading.jl:1144\n",
      "  [4] eval\n",
      "    @ ./boot.jl:368 [inlined]\n",
      "  [5] include_string(mapexpr::typeof(REPL.softscope), mod::Module, code::String, filename::String)\n",
      "    @ Base ./loading.jl:1428\n",
      "  [6] #invokelatest#2\n",
      "    @ ./essentials.jl:729 [inlined]\n",
      "  [7] invokelatest\n",
      "    @ ./essentials.jl:726 [inlined]\n",
      "  [8] (::VSCodeServer.var\"#198#199\"{VSCodeServer.NotebookRunCellArguments, String})()\n",
      "    @ VSCodeServer ~/.vscode/extensions/julialang.language-julia-1.38.2/scripts/packages/VSCodeServer/src/serve_notebook.jl:19\n",
      "  [9] withpath(f::VSCodeServer.var\"#198#199\"{VSCodeServer.NotebookRunCellArguments, String}, path::String)\n",
      "    @ VSCodeServer ~/.vscode/extensions/julialang.language-julia-1.38.2/scripts/packages/VSCodeServer/src/repl.jl:249\n",
      " [10] notebook_runcell_request(conn::VSCodeServer.JSONRPC.JSONRPCEndpoint{Base.PipeEndpoint, Base.PipeEndpoint}, params::VSCodeServer.NotebookRunCellArguments)\n",
      "    @ VSCodeServer ~/.vscode/extensions/julialang.language-julia-1.38.2/scripts/packages/VSCodeServer/src/serve_notebook.jl:13\n",
      " [11] dispatch_msg(x::VSCodeServer.JSONRPC.JSONRPCEndpoint{Base.PipeEndpoint, Base.PipeEndpoint}, dispatcher::VSCodeServer.JSONRPC.MsgDispatcher, msg::Dict{String, Any})\n",
      "    @ VSCodeServer.JSONRPC ~/.vscode/extensions/julialang.language-julia-1.38.2/scripts/packages/JSONRPC/src/typed.jl:67\n",
      " [12] serve_notebook(pipename::String, outputchannel_logger::Base.CoreLogging.SimpleLogger; crashreporting_pipename::String)\n",
      "    @ VSCodeServer ~/.vscode/extensions/julialang.language-julia-1.38.2/scripts/packages/VSCodeServer/src/serve_notebook.jl:139\n",
      " [13] top-level scope\n",
      "    @ ~/.vscode/extensions/julialang.language-julia-1.38.2/scripts/notebook/notebook.jl:32"
     ]
    }
   ],
   "source": [
    "# import libraries\n",
    "using DataFrames\n",
    "using LinearAlgebra\n",
    "using Statistics\n",
    "using XLSX\n",
    "using Plots"
   ]
  },
  {
   "cell_type": "code",
   "execution_count": null,
   "metadata": {},
   "outputs": [],
   "source": [
    "# Download and extract the dataset\n",
    "run(`wget https://archive.ics.uci.edu/ml/machine-learning-databases/00602/DryBeanDataset.zip`)\n",
    "run(`unzip DryBeanDataset.zip`)\n",
    "run(`rm DryBeanDataset.zip`)"
   ]
  },
  {
   "cell_type": "code",
   "execution_count": 14,
   "metadata": {},
   "outputs": [
    {
     "data": {
      "text/html": [
       "<div><div style = \"float: left;\"><span>13611×17 DataFrame</span></div><div style = \"float: right;\"><span style = \"font-style: italic;\">13586 rows omitted</span></div><div style = \"clear: both;\"></div></div><div class = \"data-frame\" style = \"overflow-x: scroll;\"><table class = \"data-frame\" style = \"margin-bottom: 6px;\"><thead><tr class = \"header\"><th class = \"rowNumber\" style = \"font-weight: bold; text-align: right;\">Row</th><th style = \"text-align: left;\">Area</th><th style = \"text-align: left;\">Perimeter</th><th style = \"text-align: left;\">MajorAxisLength</th><th style = \"text-align: left;\">MinorAxisLength</th><th style = \"text-align: left;\">AspectRation</th><th style = \"text-align: left;\">Eccentricity</th><th style = \"text-align: left;\">ConvexArea</th><th style = \"text-align: left;\">EquivDiameter</th><th style = \"text-align: left;\">Extent</th><th style = \"text-align: left;\">Solidity</th><th style = \"text-align: left;\">roundness</th><th style = \"text-align: left;\">Compactness</th><th style = \"text-align: left;\">ShapeFactor1</th><th style = \"text-align: left;\">ShapeFactor2</th><th style = \"text-align: left;\">ShapeFactor3</th><th style = \"text-align: left;\">ShapeFactor4</th><th style = \"text-align: left;\">Class</th></tr><tr class = \"subheader headerLastRow\"><th class = \"rowNumber\" style = \"font-weight: bold; text-align: right;\"></th><th title = \"Any\" style = \"text-align: left;\">Any</th><th title = \"Any\" style = \"text-align: left;\">Any</th><th title = \"Any\" style = \"text-align: left;\">Any</th><th title = \"Any\" style = \"text-align: left;\">Any</th><th title = \"Any\" style = \"text-align: left;\">Any</th><th title = \"Any\" style = \"text-align: left;\">Any</th><th title = \"Any\" style = \"text-align: left;\">Any</th><th title = \"Any\" style = \"text-align: left;\">Any</th><th title = \"Any\" style = \"text-align: left;\">Any</th><th title = \"Any\" style = \"text-align: left;\">Any</th><th title = \"Any\" style = \"text-align: left;\">Any</th><th title = \"Any\" style = \"text-align: left;\">Any</th><th title = \"Any\" style = \"text-align: left;\">Any</th><th title = \"Any\" style = \"text-align: left;\">Any</th><th title = \"Any\" style = \"text-align: left;\">Any</th><th title = \"Any\" style = \"text-align: left;\">Any</th><th title = \"Any\" style = \"text-align: left;\">Any</th></tr></thead><tbody><tr><td class = \"rowNumber\" style = \"font-weight: bold; text-align: right;\">1</td><td style = \"text-align: left;\">28395</td><td style = \"text-align: left;\">610.291</td><td style = \"text-align: left;\">208.178</td><td style = \"text-align: left;\">173.889</td><td style = \"text-align: left;\">1.19719</td><td style = \"text-align: left;\">0.549812</td><td style = \"text-align: left;\">28715</td><td style = \"text-align: left;\">190.141</td><td style = \"text-align: left;\">0.763923</td><td style = \"text-align: left;\">0.988856</td><td style = \"text-align: left;\">0.958027</td><td style = \"text-align: left;\">0.913358</td><td style = \"text-align: left;\">0.00733151</td><td style = \"text-align: left;\">0.00314729</td><td style = \"text-align: left;\">0.834222</td><td style = \"text-align: left;\">0.998724</td><td style = \"text-align: left;\">SEKER</td></tr><tr><td class = \"rowNumber\" style = \"font-weight: bold; text-align: right;\">2</td><td style = \"text-align: left;\">28734</td><td style = \"text-align: left;\">638.018</td><td style = \"text-align: left;\">200.525</td><td style = \"text-align: left;\">182.734</td><td style = \"text-align: left;\">1.09736</td><td style = \"text-align: left;\">0.411785</td><td style = \"text-align: left;\">29172</td><td style = \"text-align: left;\">191.273</td><td style = \"text-align: left;\">0.783968</td><td style = \"text-align: left;\">0.984986</td><td style = \"text-align: left;\">0.887034</td><td style = \"text-align: left;\">0.953861</td><td style = \"text-align: left;\">0.00697866</td><td style = \"text-align: left;\">0.00356362</td><td style = \"text-align: left;\">0.909851</td><td style = \"text-align: left;\">0.99843</td><td style = \"text-align: left;\">SEKER</td></tr><tr><td class = \"rowNumber\" style = \"font-weight: bold; text-align: right;\">3</td><td style = \"text-align: left;\">29380</td><td style = \"text-align: left;\">624.11</td><td style = \"text-align: left;\">212.826</td><td style = \"text-align: left;\">175.931</td><td style = \"text-align: left;\">1.20971</td><td style = \"text-align: left;\">0.562727</td><td style = \"text-align: left;\">29690</td><td style = \"text-align: left;\">193.411</td><td style = \"text-align: left;\">0.778113</td><td style = \"text-align: left;\">0.989559</td><td style = \"text-align: left;\">0.947849</td><td style = \"text-align: left;\">0.908774</td><td style = \"text-align: left;\">0.00724391</td><td style = \"text-align: left;\">0.00304773</td><td style = \"text-align: left;\">0.825871</td><td style = \"text-align: left;\">0.999066</td><td style = \"text-align: left;\">SEKER</td></tr><tr><td class = \"rowNumber\" style = \"font-weight: bold; text-align: right;\">4</td><td style = \"text-align: left;\">30008</td><td style = \"text-align: left;\">645.884</td><td style = \"text-align: left;\">210.558</td><td style = \"text-align: left;\">182.517</td><td style = \"text-align: left;\">1.15364</td><td style = \"text-align: left;\">0.498616</td><td style = \"text-align: left;\">30724</td><td style = \"text-align: left;\">195.467</td><td style = \"text-align: left;\">0.782681</td><td style = \"text-align: left;\">0.976696</td><td style = \"text-align: left;\">0.903936</td><td style = \"text-align: left;\">0.928329</td><td style = \"text-align: left;\">0.00701673</td><td style = \"text-align: left;\">0.00321456</td><td style = \"text-align: left;\">0.861794</td><td style = \"text-align: left;\">0.994199</td><td style = \"text-align: left;\">SEKER</td></tr><tr><td class = \"rowNumber\" style = \"font-weight: bold; text-align: right;\">5</td><td style = \"text-align: left;\">30140</td><td style = \"text-align: left;\">620.134</td><td style = \"text-align: left;\">201.848</td><td style = \"text-align: left;\">190.279</td><td style = \"text-align: left;\">1.0608</td><td style = \"text-align: left;\">0.33368</td><td style = \"text-align: left;\">30417</td><td style = \"text-align: left;\">195.897</td><td style = \"text-align: left;\">0.773098</td><td style = \"text-align: left;\">0.990893</td><td style = \"text-align: left;\">0.984877</td><td style = \"text-align: left;\">0.970516</td><td style = \"text-align: left;\">0.00669701</td><td style = \"text-align: left;\">0.00366497</td><td style = \"text-align: left;\">0.9419</td><td style = \"text-align: left;\">0.999166</td><td style = \"text-align: left;\">SEKER</td></tr><tr><td class = \"rowNumber\" style = \"font-weight: bold; text-align: right;\">6</td><td style = \"text-align: left;\">30279</td><td style = \"text-align: left;\">634.927</td><td style = \"text-align: left;\">212.561</td><td style = \"text-align: left;\">181.51</td><td style = \"text-align: left;\">1.17107</td><td style = \"text-align: left;\">0.520401</td><td style = \"text-align: left;\">30600</td><td style = \"text-align: left;\">196.348</td><td style = \"text-align: left;\">0.775688</td><td style = \"text-align: left;\">0.98951</td><td style = \"text-align: left;\">0.943852</td><td style = \"text-align: left;\">0.923726</td><td style = \"text-align: left;\">0.00702007</td><td style = \"text-align: left;\">0.00315278</td><td style = \"text-align: left;\">0.85327</td><td style = \"text-align: left;\">0.999236</td><td style = \"text-align: left;\">SEKER</td></tr><tr><td class = \"rowNumber\" style = \"font-weight: bold; text-align: right;\">7</td><td style = \"text-align: left;\">30477</td><td style = \"text-align: left;\">670.033</td><td style = \"text-align: left;\">211.05</td><td style = \"text-align: left;\">184.039</td><td style = \"text-align: left;\">1.14677</td><td style = \"text-align: left;\">0.489478</td><td style = \"text-align: left;\">30970</td><td style = \"text-align: left;\">196.989</td><td style = \"text-align: left;\">0.762402</td><td style = \"text-align: left;\">0.984081</td><td style = \"text-align: left;\">0.85308</td><td style = \"text-align: left;\">0.933374</td><td style = \"text-align: left;\">0.0069249</td><td style = \"text-align: left;\">0.00324202</td><td style = \"text-align: left;\">0.871186</td><td style = \"text-align: left;\">0.999049</td><td style = \"text-align: left;\">SEKER</td></tr><tr><td class = \"rowNumber\" style = \"font-weight: bold; text-align: right;\">8</td><td style = \"text-align: left;\">30519</td><td style = \"text-align: left;\">629.727</td><td style = \"text-align: left;\">212.997</td><td style = \"text-align: left;\">182.737</td><td style = \"text-align: left;\">1.16559</td><td style = \"text-align: left;\">0.51376</td><td style = \"text-align: left;\">30847</td><td style = \"text-align: left;\">197.124</td><td style = \"text-align: left;\">0.770682</td><td style = \"text-align: left;\">0.989367</td><td style = \"text-align: left;\">0.967109</td><td style = \"text-align: left;\">0.92548</td><td style = \"text-align: left;\">0.00697915</td><td style = \"text-align: left;\">0.00315829</td><td style = \"text-align: left;\">0.856514</td><td style = \"text-align: left;\">0.998345</td><td style = \"text-align: left;\">SEKER</td></tr><tr><td class = \"rowNumber\" style = \"font-weight: bold; text-align: right;\">9</td><td style = \"text-align: left;\">30685</td><td style = \"text-align: left;\">635.681</td><td style = \"text-align: left;\">213.534</td><td style = \"text-align: left;\">183.157</td><td style = \"text-align: left;\">1.16585</td><td style = \"text-align: left;\">0.514081</td><td style = \"text-align: left;\">31044</td><td style = \"text-align: left;\">197.66</td><td style = \"text-align: left;\">0.771561</td><td style = \"text-align: left;\">0.988436</td><td style = \"text-align: left;\">0.95424</td><td style = \"text-align: left;\">0.925658</td><td style = \"text-align: left;\">0.00695891</td><td style = \"text-align: left;\">0.00315155</td><td style = \"text-align: left;\">0.856844</td><td style = \"text-align: left;\">0.998953</td><td style = \"text-align: left;\">SEKER</td></tr><tr><td class = \"rowNumber\" style = \"font-weight: bold; text-align: right;\">10</td><td style = \"text-align: left;\">30834</td><td style = \"text-align: left;\">631.934</td><td style = \"text-align: left;\">217.228</td><td style = \"text-align: left;\">180.897</td><td style = \"text-align: left;\">1.20083</td><td style = \"text-align: left;\">0.553642</td><td style = \"text-align: left;\">31120</td><td style = \"text-align: left;\">198.139</td><td style = \"text-align: left;\">0.783683</td><td style = \"text-align: left;\">0.99081</td><td style = \"text-align: left;\">0.970278</td><td style = \"text-align: left;\">0.912125</td><td style = \"text-align: left;\">0.00704507</td><td style = \"text-align: left;\">0.00300804</td><td style = \"text-align: left;\">0.831973</td><td style = \"text-align: left;\">0.999061</td><td style = \"text-align: left;\">SEKER</td></tr><tr><td class = \"rowNumber\" style = \"font-weight: bold; text-align: right;\">11</td><td style = \"text-align: left;\">30917</td><td style = \"text-align: left;\">640.765</td><td style = \"text-align: left;\">213.56</td><td style = \"text-align: left;\">184.44</td><td style = \"text-align: left;\">1.15788</td><td style = \"text-align: left;\">0.504102</td><td style = \"text-align: left;\">31280</td><td style = \"text-align: left;\">198.406</td><td style = \"text-align: left;\">0.770805</td><td style = \"text-align: left;\">0.988395</td><td style = \"text-align: left;\">0.946258</td><td style = \"text-align: left;\">0.929038</td><td style = \"text-align: left;\">0.00690753</td><td style = \"text-align: left;\">0.00317422</td><td style = \"text-align: left;\">0.863112</td><td style = \"text-align: left;\">0.999384</td><td style = \"text-align: left;\">SEKER</td></tr><tr><td class = \"rowNumber\" style = \"font-weight: bold; text-align: right;\">12</td><td style = \"text-align: left;\">31091</td><td style = \"text-align: left;\">638.558</td><td style = \"text-align: left;\">210.486</td><td style = \"text-align: left;\">188.327</td><td style = \"text-align: left;\">1.11766</td><td style = \"text-align: left;\">0.446622</td><td style = \"text-align: left;\">31458</td><td style = \"text-align: left;\">198.963</td><td style = \"text-align: left;\">0.786377</td><td style = \"text-align: left;\">0.988334</td><td style = \"text-align: left;\">0.958173</td><td style = \"text-align: left;\">0.945254</td><td style = \"text-align: left;\">0.00677001</td><td style = \"text-align: left;\">0.00333398</td><td style = \"text-align: left;\">0.893506</td><td style = \"text-align: left;\">0.99864</td><td style = \"text-align: left;\">SEKER</td></tr><tr><td class = \"rowNumber\" style = \"font-weight: bold; text-align: right;\">13</td><td style = \"text-align: left;\">31107</td><td style = \"text-align: left;\">640.594</td><td style = \"text-align: left;\">214.649</td><td style = \"text-align: left;\">184.969</td><td style = \"text-align: left;\">1.16046</td><td style = \"text-align: left;\">0.507366</td><td style = \"text-align: left;\">31423</td><td style = \"text-align: left;\">199.014</td><td style = \"text-align: left;\">0.761046</td><td style = \"text-align: left;\">0.989944</td><td style = \"text-align: left;\">0.952582</td><td style = \"text-align: left;\">0.927163</td><td style = \"text-align: left;\">0.00690033</td><td style = \"text-align: left;\">0.00314539</td><td style = \"text-align: left;\">0.859632</td><td style = \"text-align: left;\">0.997564</td><td style = \"text-align: left;\">SEKER</td></tr><tr><td style = \"text-align: right;\">&vellip;</td><td style = \"text-align: right;\">&vellip;</td><td style = \"text-align: right;\">&vellip;</td><td style = \"text-align: right;\">&vellip;</td><td style = \"text-align: right;\">&vellip;</td><td style = \"text-align: right;\">&vellip;</td><td style = \"text-align: right;\">&vellip;</td><td style = \"text-align: right;\">&vellip;</td><td style = \"text-align: right;\">&vellip;</td><td style = \"text-align: right;\">&vellip;</td><td style = \"text-align: right;\">&vellip;</td><td style = \"text-align: right;\">&vellip;</td><td style = \"text-align: right;\">&vellip;</td><td style = \"text-align: right;\">&vellip;</td><td style = \"text-align: right;\">&vellip;</td><td style = \"text-align: right;\">&vellip;</td><td style = \"text-align: right;\">&vellip;</td><td style = \"text-align: right;\">&vellip;</td></tr><tr><td class = \"rowNumber\" style = \"font-weight: bold; text-align: right;\">13600</td><td style = \"text-align: left;\">42023</td><td style = \"text-align: left;\">746.715</td><td style = \"text-align: left;\">272.963</td><td style = \"text-align: left;\">196.334</td><td style = \"text-align: left;\">1.3903</td><td style = \"text-align: left;\">0.69473</td><td style = \"text-align: left;\">42365</td><td style = \"text-align: left;\">231.312</td><td style = \"text-align: left;\">0.795348</td><td style = \"text-align: left;\">0.991927</td><td style = \"text-align: left;\">0.947081</td><td style = \"text-align: left;\">0.847413</td><td style = \"text-align: left;\">0.00649555</td><td style = \"text-align: left;\">0.00206622</td><td style = \"text-align: left;\">0.718109</td><td style = \"text-align: left;\">0.998386</td><td style = \"text-align: left;\">DERMASON</td></tr><tr><td class = \"rowNumber\" style = \"font-weight: bold; text-align: right;\">13601</td><td style = \"text-align: left;\">42026</td><td style = \"text-align: left;\">751.05</td><td style = \"text-align: left;\">278.071</td><td style = \"text-align: left;\">192.957</td><td style = \"text-align: left;\">1.44111</td><td style = \"text-align: left;\">0.72006</td><td style = \"text-align: left;\">42358</td><td style = \"text-align: left;\">231.32</td><td style = \"text-align: left;\">0.75383</td><td style = \"text-align: left;\">0.992162</td><td style = \"text-align: left;\">0.936247</td><td style = \"text-align: left;\">0.831875</td><td style = \"text-align: left;\">0.00661665</td><td style = \"text-align: left;\">0.00195457</td><td style = \"text-align: left;\">0.692016</td><td style = \"text-align: left;\">0.997269</td><td style = \"text-align: left;\">DERMASON</td></tr><tr><td class = \"rowNumber\" style = \"font-weight: bold; text-align: right;\">13602</td><td style = \"text-align: left;\">42042</td><td style = \"text-align: left;\">771.515</td><td style = \"text-align: left;\">288.083</td><td style = \"text-align: left;\">186.347</td><td style = \"text-align: left;\">1.54595</td><td style = \"text-align: left;\">0.762615</td><td style = \"text-align: left;\">42476</td><td style = \"text-align: left;\">231.365</td><td style = \"text-align: left;\">0.816254</td><td style = \"text-align: left;\">0.989782</td><td style = \"text-align: left;\">0.887574</td><td style = \"text-align: left;\">0.803118</td><td style = \"text-align: left;\">0.00685226</td><td style = \"text-align: left;\">0.00175846</td><td style = \"text-align: left;\">0.644999</td><td style = \"text-align: left;\">0.997134</td><td style = \"text-align: left;\">DERMASON</td></tr><tr><td class = \"rowNumber\" style = \"font-weight: bold; text-align: right;\">13603</td><td style = \"text-align: left;\">42047</td><td style = \"text-align: left;\">768.936</td><td style = \"text-align: left;\">292.975</td><td style = \"text-align: left;\">183.139</td><td style = \"text-align: left;\">1.59974</td><td style = \"text-align: left;\">0.780543</td><td style = \"text-align: left;\">42446</td><td style = \"text-align: left;\">231.378</td><td style = \"text-align: left;\">0.77389</td><td style = \"text-align: left;\">0.9906</td><td style = \"text-align: left;\">0.893644</td><td style = \"text-align: left;\">0.789754</td><td style = \"text-align: left;\">0.0069678</td><td style = \"text-align: left;\">0.00167203</td><td style = \"text-align: left;\">0.623712</td><td style = \"text-align: left;\">0.997777</td><td style = \"text-align: left;\">DERMASON</td></tr><tr><td class = \"rowNumber\" style = \"font-weight: bold; text-align: right;\">13604</td><td style = \"text-align: left;\">42049</td><td style = \"text-align: left;\">770.185</td><td style = \"text-align: left;\">290.163</td><td style = \"text-align: left;\">185.052</td><td style = \"text-align: left;\">1.56801</td><td style = \"text-align: left;\">0.770243</td><td style = \"text-align: left;\">42503</td><td style = \"text-align: left;\">231.384</td><td style = \"text-align: left;\">0.756005</td><td style = \"text-align: left;\">0.989318</td><td style = \"text-align: left;\">0.89079</td><td style = \"text-align: left;\">0.797426</td><td style = \"text-align: left;\">0.0069006</td><td style = \"text-align: left;\">0.00172119</td><td style = \"text-align: left;\">0.635888</td><td style = \"text-align: left;\">0.99708</td><td style = \"text-align: left;\">DERMASON</td></tr><tr><td class = \"rowNumber\" style = \"font-weight: bold; text-align: right;\">13605</td><td style = \"text-align: left;\">42070</td><td style = \"text-align: left;\">763.489</td><td style = \"text-align: left;\">289.022</td><td style = \"text-align: left;\">186.123</td><td style = \"text-align: left;\">1.55285</td><td style = \"text-align: left;\">0.765046</td><td style = \"text-align: left;\">42556</td><td style = \"text-align: left;\">231.442</td><td style = \"text-align: left;\">0.768823</td><td style = \"text-align: left;\">0.98858</td><td style = \"text-align: left;\">0.906936</td><td style = \"text-align: left;\">0.800774</td><td style = \"text-align: left;\">0.00687004</td><td style = \"text-align: left;\">0.00174252</td><td style = \"text-align: left;\">0.641239</td><td style = \"text-align: left;\">0.99575</td><td style = \"text-align: left;\">DERMASON</td></tr><tr><td class = \"rowNumber\" style = \"font-weight: bold; text-align: right;\">13606</td><td style = \"text-align: left;\">42070</td><td style = \"text-align: left;\">760.701</td><td style = \"text-align: left;\">276.692</td><td style = \"text-align: left;\">193.945</td><td style = \"text-align: left;\">1.42665</td><td style = \"text-align: left;\">0.713216</td><td style = \"text-align: left;\">42458</td><td style = \"text-align: left;\">231.442</td><td style = \"text-align: left;\">0.730813</td><td style = \"text-align: left;\">0.990862</td><td style = \"text-align: left;\">0.913596</td><td style = \"text-align: left;\">0.83646</td><td style = \"text-align: left;\">0.00657693</td><td style = \"text-align: left;\">0.00198602</td><td style = \"text-align: left;\">0.699666</td><td style = \"text-align: left;\">0.998176</td><td style = \"text-align: left;\">DERMASON</td></tr><tr><td class = \"rowNumber\" style = \"font-weight: bold; text-align: right;\">13607</td><td style = \"text-align: left;\">42097</td><td style = \"text-align: left;\">759.696</td><td style = \"text-align: left;\">288.722</td><td style = \"text-align: left;\">185.945</td><td style = \"text-align: left;\">1.55273</td><td style = \"text-align: left;\">0.765002</td><td style = \"text-align: left;\">42508</td><td style = \"text-align: left;\">231.516</td><td style = \"text-align: left;\">0.714574</td><td style = \"text-align: left;\">0.990331</td><td style = \"text-align: left;\">0.916603</td><td style = \"text-align: left;\">0.801865</td><td style = \"text-align: left;\">0.00685848</td><td style = \"text-align: left;\">0.00174909</td><td style = \"text-align: left;\">0.642988</td><td style = \"text-align: left;\">0.998385</td><td style = \"text-align: left;\">DERMASON</td></tr><tr><td class = \"rowNumber\" style = \"font-weight: bold; text-align: right;\">13608</td><td style = \"text-align: left;\">42101</td><td style = \"text-align: left;\">757.499</td><td style = \"text-align: left;\">281.576</td><td style = \"text-align: left;\">190.713</td><td style = \"text-align: left;\">1.47644</td><td style = \"text-align: left;\">0.735702</td><td style = \"text-align: left;\">42494</td><td style = \"text-align: left;\">231.527</td><td style = \"text-align: left;\">0.799943</td><td style = \"text-align: left;\">0.990752</td><td style = \"text-align: left;\">0.922015</td><td style = \"text-align: left;\">0.822252</td><td style = \"text-align: left;\">0.00668812</td><td style = \"text-align: left;\">0.00188583</td><td style = \"text-align: left;\">0.676099</td><td style = \"text-align: left;\">0.998219</td><td style = \"text-align: left;\">DERMASON</td></tr><tr><td class = \"rowNumber\" style = \"font-weight: bold; text-align: right;\">13609</td><td style = \"text-align: left;\">42139</td><td style = \"text-align: left;\">759.321</td><td style = \"text-align: left;\">281.54</td><td style = \"text-align: left;\">191.188</td><td style = \"text-align: left;\">1.47258</td><td style = \"text-align: left;\">0.734065</td><td style = \"text-align: left;\">42569</td><td style = \"text-align: left;\">231.631</td><td style = \"text-align: left;\">0.729932</td><td style = \"text-align: left;\">0.989899</td><td style = \"text-align: left;\">0.918424</td><td style = \"text-align: left;\">0.82273</td><td style = \"text-align: left;\">0.00668122</td><td style = \"text-align: left;\">0.00188827</td><td style = \"text-align: left;\">0.676884</td><td style = \"text-align: left;\">0.996767</td><td style = \"text-align: left;\">DERMASON</td></tr><tr><td class = \"rowNumber\" style = \"font-weight: bold; text-align: right;\">13610</td><td style = \"text-align: left;\">42147</td><td style = \"text-align: left;\">763.779</td><td style = \"text-align: left;\">283.383</td><td style = \"text-align: left;\">190.276</td><td style = \"text-align: left;\">1.48933</td><td style = \"text-align: left;\">0.741055</td><td style = \"text-align: left;\">42667</td><td style = \"text-align: left;\">231.653</td><td style = \"text-align: left;\">0.705389</td><td style = \"text-align: left;\">0.987813</td><td style = \"text-align: left;\">0.907906</td><td style = \"text-align: left;\">0.817457</td><td style = \"text-align: left;\">0.00672367</td><td style = \"text-align: left;\">0.00185203</td><td style = \"text-align: left;\">0.668237</td><td style = \"text-align: left;\">0.995222</td><td style = \"text-align: left;\">DERMASON</td></tr><tr><td class = \"rowNumber\" style = \"font-weight: bold; text-align: right;\">13611</td><td style = \"text-align: left;\">42159</td><td style = \"text-align: left;\">772.237</td><td style = \"text-align: left;\">295.143</td><td style = \"text-align: left;\">182.205</td><td style = \"text-align: left;\">1.61984</td><td style = \"text-align: left;\">0.786693</td><td style = \"text-align: left;\">42600</td><td style = \"text-align: left;\">231.686</td><td style = \"text-align: left;\">0.788962</td><td style = \"text-align: left;\">0.989648</td><td style = \"text-align: left;\">0.88838</td><td style = \"text-align: left;\">0.784997</td><td style = \"text-align: left;\">0.00700071</td><td style = \"text-align: left;\">0.00163981</td><td style = \"text-align: left;\">0.616221</td><td style = \"text-align: left;\">0.99818</td><td style = \"text-align: left;\">DERMASON</td></tr></tbody></table></div>"
      ],
      "text/latex": [
       "\\begin{tabular}{r|ccccccc}\n",
       "\t& Area & Perimeter & MajorAxisLength & MinorAxisLength & AspectRation & Eccentricity & \\\\\n",
       "\t\\hline\n",
       "\t& Any & Any & Any & Any & Any & Any & \\\\\n",
       "\t\\hline\n",
       "\t1 & 28395 & 610.291 & 208.178 & 173.889 & 1.19719 & 0.549812 & $\\dots$ \\\\\n",
       "\t2 & 28734 & 638.018 & 200.525 & 182.734 & 1.09736 & 0.411785 & $\\dots$ \\\\\n",
       "\t3 & 29380 & 624.11 & 212.826 & 175.931 & 1.20971 & 0.562727 & $\\dots$ \\\\\n",
       "\t4 & 30008 & 645.884 & 210.558 & 182.517 & 1.15364 & 0.498616 & $\\dots$ \\\\\n",
       "\t5 & 30140 & 620.134 & 201.848 & 190.279 & 1.0608 & 0.33368 & $\\dots$ \\\\\n",
       "\t6 & 30279 & 634.927 & 212.561 & 181.51 & 1.17107 & 0.520401 & $\\dots$ \\\\\n",
       "\t7 & 30477 & 670.033 & 211.05 & 184.039 & 1.14677 & 0.489478 & $\\dots$ \\\\\n",
       "\t8 & 30519 & 629.727 & 212.997 & 182.737 & 1.16559 & 0.51376 & $\\dots$ \\\\\n",
       "\t9 & 30685 & 635.681 & 213.534 & 183.157 & 1.16585 & 0.514081 & $\\dots$ \\\\\n",
       "\t10 & 30834 & 631.934 & 217.228 & 180.897 & 1.20083 & 0.553642 & $\\dots$ \\\\\n",
       "\t11 & 30917 & 640.765 & 213.56 & 184.44 & 1.15788 & 0.504102 & $\\dots$ \\\\\n",
       "\t12 & 31091 & 638.558 & 210.486 & 188.327 & 1.11766 & 0.446622 & $\\dots$ \\\\\n",
       "\t13 & 31107 & 640.594 & 214.649 & 184.969 & 1.16046 & 0.507366 & $\\dots$ \\\\\n",
       "\t14 & 31158 & 642.626 & 216.485 & 183.644 & 1.17883 & 0.529514 & $\\dots$ \\\\\n",
       "\t15 & 31158 & 641.105 & 212.067 & 187.193 & 1.13288 & 0.469924 & $\\dots$ \\\\\n",
       "\t16 & 31178 & 636.888 & 212.976 & 186.562 & 1.14158 & 0.482352 & $\\dots$ \\\\\n",
       "\t17 & 31202 & 644.454 & 215.641 & 184.472 & 1.16896 & 0.517871 & $\\dots$ \\\\\n",
       "\t18 & 31203 & 639.782 & 215.068 & 184.875 & 1.16332 & 0.510947 & $\\dots$ \\\\\n",
       "\t19 & 31272 & 638.666 & 212.45 & 187.536 & 1.13285 & 0.469883 & $\\dots$ \\\\\n",
       "\t20 & 31335 & 635.011 & 216.79 & 184.163 & 1.17716 & 0.527587 & $\\dots$ \\\\\n",
       "\t21 & 31374 & 636.401 & 219.865 & 182.009 & 1.20799 & 0.560995 & $\\dots$ \\\\\n",
       "\t22 & 31530 & 638.857 & 213.786 & 188.066 & 1.13676 & 0.475536 & $\\dots$ \\\\\n",
       "\t23 & 31573 & 674.103 & 217.307 & 185.448 & 1.17179 & 0.521268 & $\\dots$ \\\\\n",
       "\t24 & 31637 & 656.711 & 229.719 & 175.51 & 1.30886 & 0.645191 & $\\dots$ \\\\\n",
       "\t$\\dots$ & $\\dots$ & $\\dots$ & $\\dots$ & $\\dots$ & $\\dots$ & $\\dots$ &  \\\\\n",
       "\\end{tabular}\n"
      ],
      "text/plain": [
       "\u001b[1m13611×17 DataFrame\u001b[0m\n",
       "\u001b[1m   Row \u001b[0m│\u001b[1m Area  \u001b[0m\u001b[1m Perimeter \u001b[0m\u001b[1m MajorAxisLength \u001b[0m\u001b[1m MinorAxisLength \u001b[0m\u001b[1m AspectRation \u001b[0m\u001b[1m Ecc\u001b[0m ⋯\n",
       "       │\u001b[90m Any   \u001b[0m\u001b[90m Any       \u001b[0m\u001b[90m Any             \u001b[0m\u001b[90m Any             \u001b[0m\u001b[90m Any          \u001b[0m\u001b[90m Any\u001b[0m ⋯\n",
       "───────┼────────────────────────────────────────────────────────────────────────\n",
       "     1 │ 28395  610.291    208.178          173.889          1.19719       0.5 ⋯\n",
       "     2 │ 28734  638.018    200.525          182.734          1.09736       0.4\n",
       "     3 │ 29380  624.11     212.826          175.931          1.20971       0.5\n",
       "     4 │ 30008  645.884    210.558          182.517          1.15364       0.4\n",
       "     5 │ 30140  620.134    201.848          190.279          1.0608        0.3 ⋯\n",
       "     6 │ 30279  634.927    212.561          181.51           1.17107       0.5\n",
       "     7 │ 30477  670.033    211.05           184.039          1.14677       0.4\n",
       "     8 │ 30519  629.727    212.997          182.737          1.16559       0.5\n",
       "   ⋮   │   ⋮        ⋮             ⋮                ⋮              ⋮            ⋱\n",
       " 13605 │ 42070  763.489    289.022          186.123          1.55285       0.7 ⋯\n",
       " 13606 │ 42070  760.701    276.692          193.945          1.42665       0.7\n",
       " 13607 │ 42097  759.696    288.722          185.945          1.55273       0.7\n",
       " 13608 │ 42101  757.499    281.576          190.713          1.47644       0.7\n",
       " 13609 │ 42139  759.321    281.54           191.188          1.47258       0.7 ⋯\n",
       " 13610 │ 42147  763.779    283.383          190.276          1.48933       0.7\n",
       " 13611 │ 42159  772.237    295.143          182.205          1.61984       0.7\n",
       "\u001b[36m                                               12 columns and 13596 rows omitted\u001b[0m"
      ]
     },
     "metadata": {},
     "output_type": "display_data"
    }
   ],
   "source": [
    "# import the dataset\n",
    "file = \"DryBeanDataset/Dry_Bean_Dataset.xlsx\"\n",
    "sheet = \"Dry_Beans_Dataset\"\n",
    "df = DataFrame(XLSX.readtable(file, sheet))\n",
    "df"
   ]
  },
  {
   "cell_type": "code",
   "execution_count": 33,
   "metadata": {},
   "outputs": [
    {
     "data": {
      "text/plain": [
       "13611"
      ]
     },
     "metadata": {},
     "output_type": "display_data"
    }
   ],
   "source": [
    "m = Matrix(df[:,begin:end-1])\n",
    "n = size(m_standardized)[1]"
   ]
  },
  {
   "cell_type": "code",
   "execution_count": 29,
   "metadata": {},
   "outputs": [
    {
     "data": {
      "text/plain": [
       "13611×16 Matrix{Float64}:\n",
       " -0.840718  -1.14328   -1.30655   -0.63113   …   1.92565      0.83834\n",
       " -0.829157  -1.01389   -1.39586   -0.434429      2.6896       0.77111\n",
       " -0.807128  -1.07879   -1.25231   -0.585713      1.84129      0.916721\n",
       " -0.785712  -0.977179  -1.27878   -0.439274      2.20417     -0.197978\n",
       " -0.78121   -1.09734   -1.38042   -0.266654      3.01335      0.939605\n",
       " -0.77647   -1.02831   -1.25541   -0.461652  …   2.11806      0.955573\n",
       " -0.769718  -0.864486  -1.27304   -0.405418      2.29904      0.912736\n",
       " -0.768286  -1.05258   -1.25032   -0.434367      2.15083      0.751467\n",
       " -0.762625  -1.02479   -1.24405   -0.425028      2.15416      0.890807\n",
       " -0.757544  -1.04228   -1.20095   -0.475277      1.90293      0.915578\n",
       "  ⋮                                          ⋱                ⋮\n",
       " -0.375162  -0.402947  -0.317021  -0.425429     -0.200799     0.621432\n",
       " -0.375094  -0.397119  -0.349831  -0.3829       -0.0778045    0.461914\n",
       " -0.374378  -0.428366  -0.363146  -0.359067     -0.0237536    0.157157\n",
       " -0.374378  -0.441377  -0.507038  -0.185131  …   0.56644      0.712887\n",
       " -0.373457  -0.446067  -0.366656  -0.363041     -0.00608571   0.760785\n",
       " -0.37332   -0.456319  -0.450036  -0.257006      0.328381     0.722632\n",
       " -0.372025  -0.447816  -0.450462  -0.246447      0.336316     0.390237\n",
       " -0.371752  -0.427013  -0.428958  -0.266732      0.248964     0.0364387\n",
       " -0.371343  -0.387543  -0.291725  -0.446208  …  -0.276471     0.713693"
      ]
     },
     "metadata": {},
     "output_type": "display_data"
    }
   ],
   "source": [
    "# standardizing features\n",
    "mean = Statistics.mean(m, dims=1)\n",
    "std = Statistics.std(m, dims=1)\n",
    "m_standardized = (m.-mean)./std"
   ]
  },
  {
   "cell_type": "code",
   "execution_count": 44,
   "metadata": {},
   "outputs": [
    {
     "data": {
      "text/plain": [
       "Eigen{Float64, Float64, Matrix{Float64}, Vector{Float64}}\n",
       "values:\n",
       "16-element Vector{Float64}:\n",
       " 1.7846607876133971e-6\n",
       " 2.145955688321491e-6\n",
       " 1.0009532907587469e-5\n",
       " 0.00014878369686010588\n",
       " 0.0002939612802447499\n",
       " 0.0010541112377849494\n",
       " 0.0014537831300659896\n",
       " 0.008259654933862137\n",
       " 0.052009378399134075\n",
       " 0.11161591666828123\n",
       " 0.18394823478991898\n",
       " 0.4382546633420757\n",
       " 0.818192728431551\n",
       " 1.2809561578178352\n",
       " 4.228645007262893\n",
       " 8.873978159059943\n",
       "vectors:\n",
       "16×16 Matrix{Float64}:\n",
       "  0.231436     0.13319      0.655728    …   0.0614467    0.245882   0.282458\n",
       "  0.0146144    0.0126585    0.0813901       0.0188526    0.179303   0.310891\n",
       "  0.346019     0.174431    -0.186251        0.0846919    0.100757   0.325824\n",
       "  0.331749     0.155445    -0.183096       -0.00750039   0.343461   0.236199\n",
       " -0.123576     0.10281      0.0266662       0.169058    -0.330844   0.229298\n",
       "  0.0147927   -0.0423063    4.59513e-5  …   0.163042    -0.319434   0.231526\n",
       " -0.224753    -0.130974    -0.648622        0.0536491    0.24463    0.2832\n",
       " -0.675589    -0.332488     0.266409        0.0499135    0.222802   0.297484\n",
       " -4.74695e-6  -1.17656e-6  -5.657e-5        0.0852582    0.220619  -0.059808\n",
       " -0.00211537  -0.00138727  -0.00767129      0.73867      0.103322  -0.143016\n",
       "  0.00189362   0.00237532   0.0146685   …   0.163325     0.214805  -0.248165\n",
       " -0.372516     0.652516     0.00202577     -0.149701     0.328914  -0.238378\n",
       " -0.011285    -0.00546798   0.00401057      0.0326229   -0.332549  -0.221319\n",
       "  0.0146684    0.00554471  -0.0185035      -0.120077     0.129419  -0.314625\n",
       "  0.234065    -0.601335     0.0461837      -0.14957      0.327522  -0.238983\n",
       "  0.0103771    0.000616    -0.00429725  …   0.536903     0.100061  -0.198009"
      ]
     },
     "metadata": {},
     "output_type": "display_data"
    }
   ],
   "source": [
    "# Computing the covariance matrix\n",
    "c = (transpose(m_standardized)*m_standardized)/n\n",
    "\n",
    "# compute eigenvalues and eigenvectors\n",
    "eig = eigen(c)"
   ]
  },
  {
   "cell_type": "code",
   "execution_count": 50,
   "metadata": {},
   "outputs": [
    {
     "data": {
      "text/plain": [
       "16-element Vector{Float64}:\n",
       " 1.7846607876133971e-6\n",
       " 2.145955688321491e-6\n",
       " 1.0009532907587469e-5\n",
       " 0.00014878369686010588\n",
       " 0.0002939612802447499\n",
       " 0.0010541112377849494\n",
       " 0.0014537831300659896\n",
       " 0.008259654933862137\n",
       " 0.052009378399134075\n",
       " 0.11161591666828123\n",
       " 0.18394823478991898\n",
       " 0.4382546633420757\n",
       " 0.818192728431551\n",
       " 1.2809561578178352\n",
       " 4.228645007262893\n",
       " 8.873978159059943"
      ]
     },
     "metadata": {},
     "output_type": "display_data"
    }
   ],
   "source": [
    "# plotting the eigenvalue spectrum\n",
    "\n",
    "eig.vectors\n",
    "eig.values"
   ]
  }
 ],
 "metadata": {
  "kernelspec": {
   "display_name": "Julia 1.8.5",
   "language": "julia",
   "name": "julia-1.8"
  },
  "language_info": {
   "file_extension": ".jl",
   "mimetype": "application/julia",
   "name": "julia",
   "version": "1.8.5"
  },
  "orig_nbformat": 4
 },
 "nbformat": 4,
 "nbformat_minor": 2
}
