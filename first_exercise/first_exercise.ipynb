{
 "cells": [
  {
   "cell_type": "code",
   "execution_count": 1,
   "metadata": {},
   "outputs": [],
   "source": [
    "# Import libraries\n",
    "using DataFrames\n",
    "using LinearAlgebra\n",
    "using Statistics\n",
    "using XLSX\n",
    "using Plots"
   ]
  },
  {
   "cell_type": "code",
   "execution_count": 3,
   "metadata": {},
   "outputs": [],
   "source": [
    "# Download and extract the dataset\n",
    "dataset_file = \"DryBeanDataset/Dry_Bean_Dataset.xlsx\"\n",
    "\n",
    "if !isfile(dataset_file)\n",
    "    run(`wget https://archive.ics.uci.edu/ml/machine-learning-databases/00602/DryBeanDataset.zip`)\n",
    "    run(`unzip DryBeanDataset.zip`)\n",
    "    run(`rm DryBeanDataset.zip`)\n",
    "end"
   ]
  },
  {
   "cell_type": "code",
   "execution_count": null,
   "metadata": {},
   "outputs": [],
   "source": [
    "# Import the dataset\n",
    "sheet = \"Dry_Beans_Dataset\"\n",
    "df = DataFrame(XLSX.readtable(dataset_file, sheet))\n",
    "df"
   ]
  },
  {
   "cell_type": "code",
   "execution_count": null,
   "metadata": {},
   "outputs": [],
   "source": [
    "# Extracting data matrix\n",
    "m = Matrix(df[:,begin:end-1])\n",
    "n = size(m_standardized)[1]"
   ]
  },
  {
   "cell_type": "code",
   "execution_count": null,
   "metadata": {},
   "outputs": [],
   "source": [
    "# Centering and rescaling features\n",
    "mean = Statistics.mean(m, dims=1)\n",
    "std = Statistics.std(m, dims=1)\n",
    "m_standardized = (m.-mean)./std"
   ]
  },
  {
   "cell_type": "code",
   "execution_count": null,
   "metadata": {},
   "outputs": [],
   "source": [
    "# Computing the covariance matrix\n",
    "c = (transpose(m_standardized)*m_standardized)/n\n",
    "\n",
    "# compute eigenvalues and eigenvectors\n",
    "eig = eigen(c)\n",
    "eigenvectors = reverse(eig.vectors)\n",
    "eigenvalues = reverse(eig.values)"
   ]
  },
  {
   "cell_type": "code",
   "execution_count": null,
   "metadata": {},
   "outputs": [],
   "source": [
    "# Plotting the eigenvalue spectrum\n",
    "plot(eigenvalues,\n",
    "    seriestype=:scatter,\n",
    "    label=\"Eigenvalues\",\n",
    "    xticks=1:length(eigenvalues),\n",
    "    yscale=:log10,\n",
    "    yticks=[10.0^i for i in ceil(log10(maximum(eigenvalues))):-1:floor(log10(minimum(eigenvalues)))],\n",
    "    title = \"Eigenvalue spectrum\")"
   ]
  },
  {
   "cell_type": "code",
   "execution_count": null,
   "metadata": {},
   "outputs": [],
   "source": [
    "# Computing principal components of the dataset\n",
    "pc = m_standardized*eigenvctors"
   ]
  },
  {
   "cell_type": "code",
   "execution_count": null,
   "metadata": {},
   "outputs": [],
   "source": [
    "# Plotting first two principal components\n",
    "colors = (\"blue\", \"crimson\", \"green\", \"gray\", \"purple\", \"orange\", \"cyan\")\n",
    "\n",
    "pc_plot = plot(\n",
    "    pc[:, 1],\n",
    "    pc[:, 2],\n",
    "    alpha=.0,\n",
    "    xlabel=\"PC1\",\n",
    "    ylabel=\"PC2\",\n",
    "    seriestype=:scatter,\n",
    "    title = \"First two PCs\",\n",
    "    label=nothing)\n",
    "\n",
    "for (i, class) in enumerate(unique(df.Class))\n",
    "    indexes = (1:n)[df.Class .== class]\n",
    "\n",
    "    plot!(\n",
    "        pc[indexes, 1],\n",
    "        pc[indexes, 2],\n",
    "        color=colors[i],\n",
    "        label = class,\n",
    "        seriestype=:scatter,\n",
    "        alpha=0.8)\n",
    "end\n",
    "\n",
    "pc_plot"
   ]
  },
  {
   "cell_type": "code",
   "execution_count": null,
   "metadata": {},
   "outputs": [],
   "source": [
    "sum(pc[:,1] .* pc[:,2])\n",
    "Statistics.mean(pc[:,10])"
   ]
  }
 ],
 "metadata": {
  "kernelspec": {
   "display_name": "Julia 1.8.5",
   "language": "julia",
   "name": "julia-1.8"
  },
  "language_info": {
   "file_extension": ".jl",
   "mimetype": "application/julia",
   "name": "julia",
   "version": "1.8.5"
  },
  "orig_nbformat": 4
 },
 "nbformat": 4,
 "nbformat_minor": 2
}
