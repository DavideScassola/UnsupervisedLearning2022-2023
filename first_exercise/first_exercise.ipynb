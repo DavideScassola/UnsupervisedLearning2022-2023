{
 "cells": [
  {
   "cell_type": "code",
   "execution_count": 2,
   "metadata": {},
   "outputs": [],
   "source": [
    "# Import libraries\n",
    "using DataFrames\n",
    "using LinearAlgebra\n",
    "using Statistics\n",
    "using XLSX\n",
    "using Plots"
   ]
  },
  {
   "cell_type": "code",
   "execution_count": 3,
   "metadata": {},
   "outputs": [
    {
     "name": "stderr",
     "output_type": "stream",
     "text": [
      "--2023-03-09 22:55:47--  https://archive.ics.uci.edu/ml/machine-learning-databases/00602/DryBeanDataset.zip\n",
      "Resolving archive.ics.uci.edu (archive.ics.uci.edu)... "
     ]
    },
    {
     "name": "stderr",
     "output_type": "stream",
     "text": [
      "128.195.10.252\n",
      "Connecting to archive.ics.uci.edu (archive.ics.uci.edu)|128.195.10.252|:443... "
     ]
    },
    {
     "name": "stderr",
     "output_type": "stream",
     "text": [
      "connected.\n"
     ]
    },
    {
     "name": "stderr",
     "output_type": "stream",
     "text": [
      "HTTP request sent, awaiting response... "
     ]
    },
    {
     "name": "stderr",
     "output_type": "stream",
     "text": [
      "200 OK\n",
      "Length: 4738776 (4,5M) [application/x-httpd-php]\n",
      "Saving to: ‘DryBeanDataset.zip.1’\n"
     ]
    },
    {
     "name": "stderr",
     "output_type": "stream",
     "text": [
      "\n",
      "     0K .......... .......... .......... ."
     ]
    },
    {
     "name": "stderr",
     "output_type": "stream",
     "text": [
      "......... ..........  1% 81,1K 56s\n",
      "    50K .......... .."
     ]
    },
    {
     "name": "stderr",
     "output_type": "stream",
     "text": [
      "........ .......... .......... ..........  2%  154K 43s\n",
      "   100K .......... .......... .......... .......... ..........  3% 4,63M 28s\n",
      "   150K ....."
     ]
    },
    {
     "name": "stderr",
     "output_type": "stream",
     "text": [
      "..... .......... .......... .......... ..........  4%  175K 27s\n",
      "   200K .......... .......... .......... .......... ........"
     ]
    },
    {
     "name": "stderr",
     "output_type": "stream",
     "text": [
      "..  5%  257K 25s\n",
      "   250K .......... .......... .......... .......... ..........  6% 1,47M 21s\n",
      "   300K .......... .......... ....."
     ]
    },
    {
     "name": "stderr",
     "output_type": "stream",
     "text": [
      "..... .......... ."
     ]
    },
    {
     "name": "stderr",
     "output_type": "stream",
     "text": [
      ".........  7%  315K 20s\n",
      "   350K .......... .......... .......... .......... ..........  8%  794K 18s\n",
      "   400K ..."
     ]
    },
    {
     "name": "stderr",
     "output_type": "stream",
     "text": [
      "....... .......... .......... ...."
     ]
    },
    {
     "name": "stderr",
     "output_type": "stream",
     "text": [
      "...... ..........  9%  324K 17s\n",
      "   450K .......... .......... .........."
     ]
    },
    {
     "name": "stderr",
     "output_type": "stream",
     "text": [
      " .......... .......... 10%  676K 16s\n",
      "   500K .......... .......... .......... .......... .."
     ]
    },
    {
     "name": "stderr",
     "output_type": "stream",
     "text": [
      "........ 11%  480K 15s\n",
      "   550K .......... .......... .......... ........."
     ]
    },
    {
     "name": "stderr",
     "output_type": "stream",
     "text": [
      ". .......... 12%  444K 14s\n",
      "   600K .......... .........."
     ]
    },
    {
     "name": "stderr",
     "output_type": "stream",
     "text": [
      " .......... .......... .......... 14%  804K 13s\n",
      "   650K .......... .......... .......... .......... ......."
     ]
    },
    {
     "name": "stderr",
     "output_type": "stream",
     "text": [
      "... 15%  363K 13s\n",
      "   700K .......... .......... .......... .......... .......... 16%  891K 12s\n",
      "   750K ........."
     ]
    },
    {
     "name": "stderr",
     "output_type": "stream",
     "text": [
      ". .......... .......... .......... .......... 17%  725K 12s\n",
      "   800K .......... .......... ."
     ]
    },
    {
     "name": "stderr",
     "output_type": "stream",
     "text": [
      "......... .......... .......... 18%  463K 11s\n",
      "   850K .......... ........"
     ]
    },
    {
     "name": "stderr",
     "output_type": "stream",
     "text": [
      ".. .......... .......... .......... 19%  759K 11s\n",
      "   900K .......... .......... .........."
     ]
    },
    {
     "name": "stderr",
     "output_type": "stream",
     "text": [
      " .......... .......... 20%  440K 11s\n",
      "   950K .......... .......... ......"
     ]
    },
    {
     "name": "stderr",
     "output_type": "stream",
     "text": [
      ".... .......... .......... 21%  792K 10s\n",
      "  1000K .......... .......... .......... .......... .......... 22%  817K 10s\n",
      "  1050K ...."
     ]
    },
    {
     "name": "stderr",
     "output_type": "stream",
     "text": [
      "...... .......... .......... .......... .......... 23%  497K 10s\n",
      "  1100K .......... ......"
     ]
    },
    {
     "name": "stderr",
     "output_type": "stream",
     "text": [
      ".... .......... .......... .......... 24%  821K 9s\n",
      "  1150K .......... .......... .......... .......... ..."
     ]
    },
    {
     "name": "stderr",
     "output_type": "stream",
     "text": [
      "....... 25%  482K 9s\n",
      "  1200K .......... .......... .......... .......... .......... 27%  875K 9s\n",
      "  1250K"
     ]
    },
    {
     "name": "stderr",
     "output_type": "stream",
     "text": [
      " .......... .......... .......... .......... .......... 28%  698K 8s\n",
      "  1300K .......... ......."
     ]
    },
    {
     "name": "stderr",
     "output_type": "stream",
     "text": [
      "... .......... .......... .......... 29%  617K 8s\n",
      "  1350K .......... .......... .......... .......... ....."
     ]
    },
    {
     "name": "stderr",
     "output_type": "stream",
     "text": [
      "..... 30%  870K 8s\n",
      "  1400K .......... .......... .......... .......... .......... 31%  616K 8s\n",
      "  1450K .......... .......... .."
     ]
    },
    {
     "name": "stderr",
     "output_type": "stream",
     "text": [
      "........ .......... .......... 32%  847K 7s\n",
      "  1500K .......... .......... .......... .......... .......... 33% 1,04M 7s"
     ]
    },
    {
     "name": "stderr",
     "output_type": "stream",
     "text": [
      "\n",
      "  1550K .......... .......... .......... .......... ......"
     ]
    },
    {
     "name": "stderr",
     "output_type": "stream",
     "text": [
      ".... 34%  468K 7s\n",
      "  1600K .......... .......... ......."
     ]
    },
    {
     "name": "stderr",
     "output_type": "stream",
     "text": [
      "... .......... .......... 35%  336K 7s\n",
      "  1650K .......... .......... .......... ........."
     ]
    },
    {
     "name": "stderr",
     "output_type": "stream",
     "text": [
      ". .......... 36%  414K 7s\n",
      "  1700K .......... .........."
     ]
    },
    {
     "name": "stderr",
     "output_type": "stream",
     "text": [
      " .......... ......"
     ]
    },
    {
     "name": "stderr",
     "output_type": "stream",
     "text": [
      ".... .......... 37%  361K 7s\n",
      "  1750K .......... .......... .......... .......... .......... 38% 1,15M 7s\n",
      "  1800K .......... .......... .......... .......... .......... 39% 1,85M 6s\n",
      "  1850K .........."
     ]
    },
    {
     "name": "stderr",
     "output_type": "stream",
     "text": [
      " .......... .......... .......... .......... 41%  500K 6s\n",
      "  1900K ......"
     ]
    },
    {
     "name": "stderr",
     "output_type": "stream",
     "text": [
      ".... .......... .......... .......... .......... 42%  260K 6s\n",
      "  1950K .......... .......... .......... .......... .......... 43% 3,13M 6s\n",
      "  2000K .......... ....."
     ]
    },
    {
     "name": "stderr",
     "output_type": "stream",
     "text": [
      "..... .......... .......... .......... 44% 1,18M 6s\n",
      "  2050K .......... .......... ......."
     ]
    },
    {
     "name": "stderr",
     "output_type": "stream",
     "text": [
      "... .......... .......... 45%  338K 6s\n",
      "  2100K .......... .......... .......... .......... .......... 46% 2,31M 5s\n",
      "  2150K ...."
     ]
    },
    {
     "name": "stderr",
     "output_type": "stream",
     "text": [
      "...... .......... .......... .......... .......... 47% 1,60M 5s\n",
      "  2200K .......... .......... .......... .......... ......."
     ]
    },
    {
     "name": "stderr",
     "output_type": "stream",
     "text": [
      "... 48%  364K 5s\n",
      "  2250K .......... .......... .......... .......... .......... 49% 2,42M 5s\n",
      "  2300K .......... .......... ....."
     ]
    },
    {
     "name": "stderr",
     "output_type": "stream",
     "text": [
      "..... .......... .......... 50% 1,26M 5s\n",
      "  2350K .......... .......... .......... .......... .......... 51% 3,17M 5s\n",
      "  2400K .......... .......... .......... ..."
     ]
    },
    {
     "name": "stderr",
     "output_type": "stream",
     "text": [
      "....... .......... 52%  400K 4s\n",
      "  2450K .......... .......... .......... .......... .......... 54% 1,87M 4s\n",
      "  2500K .......... ."
     ]
    },
    {
     "name": "stderr",
     "output_type": "stream",
     "text": [
      "......... .......... .......... .......... 55%  940K 4s\n",
      "  2550K .......... .......... .......... .......... .......... 56% 3,48M 4s\n",
      "  2600K .......... .......... .......... ....."
     ]
    },
    {
     "name": "stderr",
     "output_type": "stream",
     "text": [
      "..... .......... 57%  512K 4s\n",
      "  2650K .......... .......... .......... .......... ......."
     ]
    },
    {
     "name": "stderr",
     "output_type": "stream",
     "text": [
      "... 58%  872K 4s\n",
      "  2700K .......... .......... .......... .......... .......... 59%  821K 4s\n",
      "  2750K .......... .......... .......... .......... .......... 60% 3,10M 4s\n",
      "  2800K ....."
     ]
    },
    {
     "name": "stderr",
     "output_type": "stream",
     "text": [
      "..... .......... .......... .......... .......... 61%  957K 3s\n",
      "  2850K .......... .......... .......... .......... .......... 62%  912K 3s\n",
      "  2900K .......... ...."
     ]
    },
    {
     "name": "stderr",
     "output_type": "stream",
     "text": [
      "...... .......... .......... .......... 63%  645K 3s\n",
      "  2950K .......... .......... ......"
     ]
    },
    {
     "name": "stderr",
     "output_type": "stream",
     "text": [
      ".... .......... .......... 64%  430K 3s\n",
      "  3000K ......."
     ]
    },
    {
     "name": "stderr",
     "output_type": "stream",
     "text": [
      "... .......... .......... .......... .......... 65% 2,03M 3s\n",
      "  3050K .......... .......... .......... .......... .......... 66% 2,84M 3s\n",
      "  3100K .......... .......... .......... .......... .......... 68% 1,68M 3s\n",
      "  3150K .......... .......... ......."
     ]
    },
    {
     "name": "stderr",
     "output_type": "stream",
     "text": [
      "... .......... .......... 69%  778K 3s\n",
      "  3200K .......... .......... ...."
     ]
    },
    {
     "name": "stderr",
     "output_type": "stream",
     "text": [
      "...... .......... .......... 70%  387K 3s\n",
      "  3250K .......... .......... .......... .......... .......... 71% 3,28M 2s\n",
      "  3300K .......... .......... .......... .......... .......... 72% 2,27M 2s\n",
      "  3350K .......... .......... ........."
     ]
    },
    {
     "name": "stderr",
     "output_type": "stream",
     "text": [
      ". .......... .......... 73% 1,98M 2s\n",
      "  3400K .......... .......... .......... .......... .......... 74%  695K 2s\n",
      "  3450K .......... .......... .......... .......... .......... 75%  599K 2s\n",
      "  3500K .......... .......... .......... .......... .......... 76% 1,96M 2s\n",
      "  3550K .......... .......... .......... .......... .......... 77% 1,11M 2s\n",
      "  3600K .......... .......... .......... .......... .......... 78% 2,01M 2s\n",
      "  3650K .......... .......... .......... ........."
     ]
    },
    {
     "name": "stderr",
     "output_type": "stream",
     "text": [
      ". .......... 79%  630K 2s\n",
      "  3700K .......... .......... .......... .......... .......... 81% 1,19M 1s\n",
      "  3750K .......... .......... .......... .......... ......."
     ]
    },
    {
     "name": "stderr",
     "output_type": "stream",
     "text": [
      "... 82%  789K 1s\n",
      "  3800K .......... .......... .......... .......... .......... 83% 1,04M 1s\n",
      "  3850K .......... .......... .......... .......... .......... 84% 4,49M 1s\n",
      "  3900K .......... .......... .......... ......."
     ]
    },
    {
     "name": "stderr",
     "output_type": "stream",
     "text": [
      "... .......... 85% 2,00M 1s\n",
      "  3950K .......... .......... .......... .......... .......... 86%  842K 1s\n",
      "  4000K .......... .......... .......... .......... ....."
     ]
    },
    {
     "name": "stderr",
     "output_type": "stream",
     "text": [
      "..... 87%  813K 1s\n",
      "  4050K .......... ."
     ]
    },
    {
     "name": "stderr",
     "output_type": "stream",
     "text": [
      "......... .......... .......... .......... 88%  127K 1s\n",
      "  4100K .......... .......... .......... .......... .......... 89% 20,5M 1s\n",
      "  4150K .......... .......... .......... .......... .......... 90% 19,5M 1s\n",
      "  4200K .......... .......... .......... .......... .......... 91% 17,3M 1s\n",
      "  4250K .......... .......... .......... .......... .......... 92% 15,9M 1s\n",
      "  4300K .......... .......... .......... .......... .......... 93% 1,27M 0s\n",
      "  4350K .......... .......... ....."
     ]
    },
    {
     "name": "stderr",
     "output_type": "stream",
     "text": [
      "..... .......... .......... 95%  867K 0s\n",
      "  4400K .......... .......... .......... .......... .......... 96% 1,23M 0s\n",
      "  4450K .......... .......... .......... .......... ........."
     ]
    },
    {
     "name": "stderr",
     "output_type": "stream",
     "text": [
      ". 97%  668K 0s\n",
      "  4500K .......... .......... .........."
     ]
    },
    {
     "name": "stderr",
     "output_type": "stream",
     "text": [
      " .......... .......... 98%  678K 0s\n",
      "  4550K .......... .......... .......... .......... .......... 99% 1,73M 0s\n",
      "  4600K .......... .......... .......                         100%  576K=7,4s\n",
      "\n",
      "2023-03-09 22:55:56 (625 KB/s) - ‘DryBeanDataset.zip.1’ saved [4738776/4738776]\n",
      "\n"
     ]
    },
    {
     "name": "stdout",
     "output_type": "stream",
     "text": [
      "Archive:  DryBeanDataset.zip\n"
     ]
    },
    {
     "name": "stderr",
     "output_type": "stream",
     "text": [
      "replace DryBeanDataset/Dry_Bean_Dataset.arff? [y]es, [n]o, [A]ll, [N]one, [r]ename: "
     ]
    }
   ],
   "source": [
    "# Download and extract the dataset\n",
    "dataset_file = \"DryBeanDataset/Dry_Bean_Dataset.xlsx\"\n",
    "\n",
    "if !isfile(dataset_file)\n",
    "    run(`wget https://archive.ics.uci.edu/ml/machine-learning-databases/00602/DryBeanDataset.zip`)\n",
    "    run(`unzip DryBeanDataset.zip`)\n",
    "    run(`rm DryBeanDataset.zip`)\n",
    "end"
   ]
  },
  {
   "cell_type": "code",
   "execution_count": null,
   "metadata": {},
   "outputs": [],
   "source": [
    "# Import the dataset\n",
    "sheet = \"Dry_Beans_Dataset\"\n",
    "df = DataFrame(XLSX.readtable(dataset_file, sheet))\n",
    "df"
   ]
  },
  {
   "cell_type": "code",
   "execution_count": null,
   "metadata": {},
   "outputs": [],
   "source": [
    "# Extracting data matrix\n",
    "m = Matrix(df[:,begin:end-1])\n",
    "n = size(m_standardized)[1]"
   ]
  },
  {
   "cell_type": "code",
   "execution_count": null,
   "metadata": {},
   "outputs": [],
   "source": [
    "# Centering and rescaling features\n",
    "mean = Statistics.mean(m, dims=1)\n",
    "std = Statistics.std(m, dims=1)\n",
    "m_standardized = (m.-mean)./std"
   ]
  },
  {
   "cell_type": "code",
   "execution_count": null,
   "metadata": {},
   "outputs": [],
   "source": [
    "# Computing the covariance matrix\n",
    "c = (transpose(m_standardized)*m_standardized)/n\n",
    "\n",
    "# compute eigenvalues and eigenvectors\n",
    "eig = eigen(c)\n",
    "eigenvectors = reverse(eig.vectors)\n",
    "eigenvalues = reverse(eig.values)"
   ]
  },
  {
   "cell_type": "code",
   "execution_count": null,
   "metadata": {},
   "outputs": [],
   "source": [
    "# Plotting the eigenvalue spectrum\n",
    "plot(eigenvalues,\n",
    "    seriestype=:scatter,\n",
    "    label=\"Eigenvalues\",\n",
    "    xticks=1:length(eigenvalues),\n",
    "    yscale=:log10,\n",
    "    yticks=[10.0^i for i in ceil(log10(maximum(eigenvalues))):-1:floor(log10(minimum(eigenvalues)))],\n",
    "    title = \"Eigenvalue spectrum\")"
   ]
  },
  {
   "cell_type": "code",
   "execution_count": null,
   "metadata": {},
   "outputs": [],
   "source": [
    "# Computing principal components of the dataset\n",
    "pc = m_standardized*eigenvctors"
   ]
  },
  {
   "cell_type": "code",
   "execution_count": null,
   "metadata": {},
   "outputs": [],
   "source": [
    "# Plotting first two principal components\n",
    "colors = (\"blue\", \"crimson\", \"green\", \"gray\", \"purple\", \"orange\", \"cyan\")\n",
    "\n",
    "pc_plot = plot(\n",
    "    pc[:, 1],\n",
    "    pc[:, 2],\n",
    "    alpha=.0,\n",
    "    xlabel=\"PC1\",\n",
    "    ylabel=\"PC2\",\n",
    "    seriestype=:scatter,\n",
    "    title = \"First two PCs\",\n",
    "    label=nothing)\n",
    "\n",
    "for (i, class) in enumerate(unique(df.Class))\n",
    "    indexes = (1:n)[df.Class .== class]\n",
    "\n",
    "    plot!(\n",
    "        pc[indexes, 1],\n",
    "        pc[indexes, 2],\n",
    "        color=colors[i],\n",
    "        label = class,\n",
    "        seriestype=:scatter,\n",
    "        alpha=0.8)\n",
    "end\n",
    "\n",
    "pc_plot"
   ]
  },
  {
   "cell_type": "code",
   "execution_count": null,
   "metadata": {},
   "outputs": [],
   "source": [
    "sum(pc[:,1] .* pc[:,2])\n",
    "Statistics.mean(pc[:,10])"
   ]
  }
 ],
 "metadata": {
  "kernelspec": {
   "display_name": "Julia 1.8.5",
   "language": "julia",
   "name": "julia-1.8"
  },
  "language_info": {
   "file_extension": ".jl",
   "mimetype": "application/julia",
   "name": "julia",
   "version": "1.8.5"
  },
  "orig_nbformat": 4
 },
 "nbformat": 4,
 "nbformat_minor": 2
}
